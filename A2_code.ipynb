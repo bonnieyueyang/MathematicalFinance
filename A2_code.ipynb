{
 "cells": [
  {
   "cell_type": "code",
   "execution_count": 19,
   "metadata": {},
   "outputs": [
    {
     "data": {
      "text/plain": [
       "matrix([[0.8, 0.1, 0.1, 0. ],\n",
       "        [0.1, 0.5, 0.2, 0.2],\n",
       "        [0.1, 0.3, 0.3, 0.3],\n",
       "        [0. , 0. , 0. , 1. ]])"
      ]
     },
     "execution_count": 19,
     "metadata": {},
     "output_type": "execute_result"
    }
   ],
   "source": [
    "import numpy as np\n",
    "P = np.matrix([[8/10, 1/10, 1/10, 0],[1/10, 5/10, 2/10, 2/10],\n",
    "    [1/10, 3/10, 3/10, 3/10], [0, 0, 0, 1]])\n",
    "P"
   ]
  },
  {
   "cell_type": "code",
   "execution_count": 18,
   "metadata": {},
   "outputs": [
    {
     "data": {
      "text/plain": [
       "matrix([[0.66, 0.16, 0.13, 0.05],\n",
       "        [0.15, 0.32, 0.17, 0.36],\n",
       "        [0.14, 0.25, 0.16, 0.45],\n",
       "        [0.  , 0.  , 0.  , 1.  ]])"
      ]
     },
     "execution_count": 18,
     "metadata": {},
     "output_type": "execute_result"
    }
   ],
   "source": [
    "from numpy import linalg as LA\n",
    "p2 = LA.matrix_power(P,2)\n",
    "p2"
   ]
  },
  {
   "cell_type": "code",
   "execution_count": 14,
   "metadata": {},
   "outputs": [
    {
     "data": {
      "text/plain": [
       "array([[ 0.98018689,  0.00883435,  0.01417896, -0.00320021],\n",
       "       [ 0.01061589,  0.92874231,  0.04439177,  0.01625004],\n",
       "       [ 0.01239743,  0.06747842,  0.88256901,  0.03755515],\n",
       "       [ 0.        ,  0.        ,  0.        ,  1.        ]])"
      ]
     },
     "execution_count": 14,
     "metadata": {},
     "output_type": "execute_result"
    }
   ],
   "source": [
    "from scipy.linalg import fractional_matrix_power\n",
    "pmonthly = fractional_matrix_power(P, 1/12)\n",
    "pmonthly"
   ]
  },
  {
   "cell_type": "code",
   "execution_count": null,
   "metadata": {},
   "outputs": [],
   "source": []
  }
 ],
 "metadata": {
  "kernelspec": {
   "display_name": "Python 3",
   "language": "python",
   "name": "python3"
  },
  "language_info": {
   "codemirror_mode": {
    "name": "ipython",
    "version": 3
   },
   "file_extension": ".py",
   "mimetype": "text/x-python",
   "name": "python",
   "nbconvert_exporter": "python",
   "pygments_lexer": "ipython3",
   "version": "3.7.4"
  }
 },
 "nbformat": 4,
 "nbformat_minor": 2
}
